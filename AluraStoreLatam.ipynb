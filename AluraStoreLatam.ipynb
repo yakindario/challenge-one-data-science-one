{
  "nbformat": 4,
  "nbformat_minor": 0,
  "metadata": {
    "colab": {
      "provenance": []
    },
    "kernelspec": {
      "name": "python3",
      "display_name": "Python 3"
    },
    "language_info": {
      "name": "python"
    }
  },
  "cells": [
    {
      "cell_type": "markdown",
      "source": [
        "### Importación de datos\n",
        "\n"
      ],
      "metadata": {
        "id": "RhEdWd9YUR6H"
      }
    },
    {
      "cell_type": "code",
      "execution_count": 1,
      "metadata": {
        "colab": {
          "base_uri": "https://localhost:8080/",
          "height": 400
        },
        "id": "T3EvaeQ_INIL",
        "outputId": "1ef1e547-bf64-49f6-c6b0-611c69691c4b"
      },
      "outputs": [
        {
          "output_type": "execute_result",
          "data": {
            "text/plain": [
              "            Producto Categoría del Producto    Precio  Costo de envío  \\\n",
              "0  Asistente virtual           Electrónicos  164300.0          6900.0   \n",
              "1    Mesa de comedor                Muebles  192300.0          8400.0   \n",
              "2      Juego de mesa               Juguetes  209600.0         15900.0   \n",
              "3         Microondas      Electrodomésticos  757500.0         41000.0   \n",
              "4   Silla de oficina                Muebles  335200.0         20200.0   \n",
              "\n",
              "  Fecha de Compra         Vendedor Lugar de Compra  Calificación  \\\n",
              "0      16/01/2021      Pedro Gomez          Bogotá             4   \n",
              "1      18/05/2022  Beatriz Morales        Medellín             1   \n",
              "2      15/03/2021   Juan Fernandez       Cartagena             1   \n",
              "3      03/05/2022   Juan Fernandez            Cali             4   \n",
              "4      07/11/2020    Maria Alfonso        Medellín             5   \n",
              "\n",
              "       Método de pago  Cantidad de cuotas       lat       lon  \n",
              "0  Tarjeta de crédito                   8   4.60971 -74.08175  \n",
              "1  Tarjeta de crédito                   4   6.25184 -75.56359  \n",
              "2  Tarjeta de crédito                   1  10.39972 -75.51444  \n",
              "3               Nequi                   1   3.43722 -76.52250  \n",
              "4               Nequi                   1   6.25184 -75.56359  "
            ],
            "text/html": [
              "\n",
              "  <div id=\"df-7df1e824-0795-4956-acde-dd3b774b54f2\" class=\"colab-df-container\">\n",
              "    <div>\n",
              "<style scoped>\n",
              "    .dataframe tbody tr th:only-of-type {\n",
              "        vertical-align: middle;\n",
              "    }\n",
              "\n",
              "    .dataframe tbody tr th {\n",
              "        vertical-align: top;\n",
              "    }\n",
              "\n",
              "    .dataframe thead th {\n",
              "        text-align: right;\n",
              "    }\n",
              "</style>\n",
              "<table border=\"1\" class=\"dataframe\">\n",
              "  <thead>\n",
              "    <tr style=\"text-align: right;\">\n",
              "      <th></th>\n",
              "      <th>Producto</th>\n",
              "      <th>Categoría del Producto</th>\n",
              "      <th>Precio</th>\n",
              "      <th>Costo de envío</th>\n",
              "      <th>Fecha de Compra</th>\n",
              "      <th>Vendedor</th>\n",
              "      <th>Lugar de Compra</th>\n",
              "      <th>Calificación</th>\n",
              "      <th>Método de pago</th>\n",
              "      <th>Cantidad de cuotas</th>\n",
              "      <th>lat</th>\n",
              "      <th>lon</th>\n",
              "    </tr>\n",
              "  </thead>\n",
              "  <tbody>\n",
              "    <tr>\n",
              "      <th>0</th>\n",
              "      <td>Asistente virtual</td>\n",
              "      <td>Electrónicos</td>\n",
              "      <td>164300.0</td>\n",
              "      <td>6900.0</td>\n",
              "      <td>16/01/2021</td>\n",
              "      <td>Pedro Gomez</td>\n",
              "      <td>Bogotá</td>\n",
              "      <td>4</td>\n",
              "      <td>Tarjeta de crédito</td>\n",
              "      <td>8</td>\n",
              "      <td>4.60971</td>\n",
              "      <td>-74.08175</td>\n",
              "    </tr>\n",
              "    <tr>\n",
              "      <th>1</th>\n",
              "      <td>Mesa de comedor</td>\n",
              "      <td>Muebles</td>\n",
              "      <td>192300.0</td>\n",
              "      <td>8400.0</td>\n",
              "      <td>18/05/2022</td>\n",
              "      <td>Beatriz Morales</td>\n",
              "      <td>Medellín</td>\n",
              "      <td>1</td>\n",
              "      <td>Tarjeta de crédito</td>\n",
              "      <td>4</td>\n",
              "      <td>6.25184</td>\n",
              "      <td>-75.56359</td>\n",
              "    </tr>\n",
              "    <tr>\n",
              "      <th>2</th>\n",
              "      <td>Juego de mesa</td>\n",
              "      <td>Juguetes</td>\n",
              "      <td>209600.0</td>\n",
              "      <td>15900.0</td>\n",
              "      <td>15/03/2021</td>\n",
              "      <td>Juan Fernandez</td>\n",
              "      <td>Cartagena</td>\n",
              "      <td>1</td>\n",
              "      <td>Tarjeta de crédito</td>\n",
              "      <td>1</td>\n",
              "      <td>10.39972</td>\n",
              "      <td>-75.51444</td>\n",
              "    </tr>\n",
              "    <tr>\n",
              "      <th>3</th>\n",
              "      <td>Microondas</td>\n",
              "      <td>Electrodomésticos</td>\n",
              "      <td>757500.0</td>\n",
              "      <td>41000.0</td>\n",
              "      <td>03/05/2022</td>\n",
              "      <td>Juan Fernandez</td>\n",
              "      <td>Cali</td>\n",
              "      <td>4</td>\n",
              "      <td>Nequi</td>\n",
              "      <td>1</td>\n",
              "      <td>3.43722</td>\n",
              "      <td>-76.52250</td>\n",
              "    </tr>\n",
              "    <tr>\n",
              "      <th>4</th>\n",
              "      <td>Silla de oficina</td>\n",
              "      <td>Muebles</td>\n",
              "      <td>335200.0</td>\n",
              "      <td>20200.0</td>\n",
              "      <td>07/11/2020</td>\n",
              "      <td>Maria Alfonso</td>\n",
              "      <td>Medellín</td>\n",
              "      <td>5</td>\n",
              "      <td>Nequi</td>\n",
              "      <td>1</td>\n",
              "      <td>6.25184</td>\n",
              "      <td>-75.56359</td>\n",
              "    </tr>\n",
              "  </tbody>\n",
              "</table>\n",
              "</div>\n",
              "    <div class=\"colab-df-buttons\">\n",
              "\n",
              "  <div class=\"colab-df-container\">\n",
              "    <button class=\"colab-df-convert\" onclick=\"convertToInteractive('df-7df1e824-0795-4956-acde-dd3b774b54f2')\"\n",
              "            title=\"Convert this dataframe to an interactive table.\"\n",
              "            style=\"display:none;\">\n",
              "\n",
              "  <svg xmlns=\"http://www.w3.org/2000/svg\" height=\"24px\" viewBox=\"0 -960 960 960\">\n",
              "    <path d=\"M120-120v-720h720v720H120Zm60-500h600v-160H180v160Zm220 220h160v-160H400v160Zm0 220h160v-160H400v160ZM180-400h160v-160H180v160Zm440 0h160v-160H620v160ZM180-180h160v-160H180v160Zm440 0h160v-160H620v160Z\"/>\n",
              "  </svg>\n",
              "    </button>\n",
              "\n",
              "  <style>\n",
              "    .colab-df-container {\n",
              "      display:flex;\n",
              "      gap: 12px;\n",
              "    }\n",
              "\n",
              "    .colab-df-convert {\n",
              "      background-color: #E8F0FE;\n",
              "      border: none;\n",
              "      border-radius: 50%;\n",
              "      cursor: pointer;\n",
              "      display: none;\n",
              "      fill: #1967D2;\n",
              "      height: 32px;\n",
              "      padding: 0 0 0 0;\n",
              "      width: 32px;\n",
              "    }\n",
              "\n",
              "    .colab-df-convert:hover {\n",
              "      background-color: #E2EBFA;\n",
              "      box-shadow: 0px 1px 2px rgba(60, 64, 67, 0.3), 0px 1px 3px 1px rgba(60, 64, 67, 0.15);\n",
              "      fill: #174EA6;\n",
              "    }\n",
              "\n",
              "    .colab-df-buttons div {\n",
              "      margin-bottom: 4px;\n",
              "    }\n",
              "\n",
              "    [theme=dark] .colab-df-convert {\n",
              "      background-color: #3B4455;\n",
              "      fill: #D2E3FC;\n",
              "    }\n",
              "\n",
              "    [theme=dark] .colab-df-convert:hover {\n",
              "      background-color: #434B5C;\n",
              "      box-shadow: 0px 1px 3px 1px rgba(0, 0, 0, 0.15);\n",
              "      filter: drop-shadow(0px 1px 2px rgba(0, 0, 0, 0.3));\n",
              "      fill: #FFFFFF;\n",
              "    }\n",
              "  </style>\n",
              "\n",
              "    <script>\n",
              "      const buttonEl =\n",
              "        document.querySelector('#df-7df1e824-0795-4956-acde-dd3b774b54f2 button.colab-df-convert');\n",
              "      buttonEl.style.display =\n",
              "        google.colab.kernel.accessAllowed ? 'block' : 'none';\n",
              "\n",
              "      async function convertToInteractive(key) {\n",
              "        const element = document.querySelector('#df-7df1e824-0795-4956-acde-dd3b774b54f2');\n",
              "        const dataTable =\n",
              "          await google.colab.kernel.invokeFunction('convertToInteractive',\n",
              "                                                    [key], {});\n",
              "        if (!dataTable) return;\n",
              "\n",
              "        const docLinkHtml = 'Like what you see? Visit the ' +\n",
              "          '<a target=\"_blank\" href=https://colab.research.google.com/notebooks/data_table.ipynb>data table notebook</a>'\n",
              "          + ' to learn more about interactive tables.';\n",
              "        element.innerHTML = '';\n",
              "        dataTable['output_type'] = 'display_data';\n",
              "        await google.colab.output.renderOutput(dataTable, element);\n",
              "        const docLink = document.createElement('div');\n",
              "        docLink.innerHTML = docLinkHtml;\n",
              "        element.appendChild(docLink);\n",
              "      }\n",
              "    </script>\n",
              "  </div>\n",
              "\n",
              "\n",
              "    <div id=\"df-882c458f-988a-42d6-8507-27bb4300427d\">\n",
              "      <button class=\"colab-df-quickchart\" onclick=\"quickchart('df-882c458f-988a-42d6-8507-27bb4300427d')\"\n",
              "                title=\"Suggest charts\"\n",
              "                style=\"display:none;\">\n",
              "\n",
              "<svg xmlns=\"http://www.w3.org/2000/svg\" height=\"24px\"viewBox=\"0 0 24 24\"\n",
              "     width=\"24px\">\n",
              "    <g>\n",
              "        <path d=\"M19 3H5c-1.1 0-2 .9-2 2v14c0 1.1.9 2 2 2h14c1.1 0 2-.9 2-2V5c0-1.1-.9-2-2-2zM9 17H7v-7h2v7zm4 0h-2V7h2v10zm4 0h-2v-4h2v4z\"/>\n",
              "    </g>\n",
              "</svg>\n",
              "      </button>\n",
              "\n",
              "<style>\n",
              "  .colab-df-quickchart {\n",
              "      --bg-color: #E8F0FE;\n",
              "      --fill-color: #1967D2;\n",
              "      --hover-bg-color: #E2EBFA;\n",
              "      --hover-fill-color: #174EA6;\n",
              "      --disabled-fill-color: #AAA;\n",
              "      --disabled-bg-color: #DDD;\n",
              "  }\n",
              "\n",
              "  [theme=dark] .colab-df-quickchart {\n",
              "      --bg-color: #3B4455;\n",
              "      --fill-color: #D2E3FC;\n",
              "      --hover-bg-color: #434B5C;\n",
              "      --hover-fill-color: #FFFFFF;\n",
              "      --disabled-bg-color: #3B4455;\n",
              "      --disabled-fill-color: #666;\n",
              "  }\n",
              "\n",
              "  .colab-df-quickchart {\n",
              "    background-color: var(--bg-color);\n",
              "    border: none;\n",
              "    border-radius: 50%;\n",
              "    cursor: pointer;\n",
              "    display: none;\n",
              "    fill: var(--fill-color);\n",
              "    height: 32px;\n",
              "    padding: 0;\n",
              "    width: 32px;\n",
              "  }\n",
              "\n",
              "  .colab-df-quickchart:hover {\n",
              "    background-color: var(--hover-bg-color);\n",
              "    box-shadow: 0 1px 2px rgba(60, 64, 67, 0.3), 0 1px 3px 1px rgba(60, 64, 67, 0.15);\n",
              "    fill: var(--button-hover-fill-color);\n",
              "  }\n",
              "\n",
              "  .colab-df-quickchart-complete:disabled,\n",
              "  .colab-df-quickchart-complete:disabled:hover {\n",
              "    background-color: var(--disabled-bg-color);\n",
              "    fill: var(--disabled-fill-color);\n",
              "    box-shadow: none;\n",
              "  }\n",
              "\n",
              "  .colab-df-spinner {\n",
              "    border: 2px solid var(--fill-color);\n",
              "    border-color: transparent;\n",
              "    border-bottom-color: var(--fill-color);\n",
              "    animation:\n",
              "      spin 1s steps(1) infinite;\n",
              "  }\n",
              "\n",
              "  @keyframes spin {\n",
              "    0% {\n",
              "      border-color: transparent;\n",
              "      border-bottom-color: var(--fill-color);\n",
              "      border-left-color: var(--fill-color);\n",
              "    }\n",
              "    20% {\n",
              "      border-color: transparent;\n",
              "      border-left-color: var(--fill-color);\n",
              "      border-top-color: var(--fill-color);\n",
              "    }\n",
              "    30% {\n",
              "      border-color: transparent;\n",
              "      border-left-color: var(--fill-color);\n",
              "      border-top-color: var(--fill-color);\n",
              "      border-right-color: var(--fill-color);\n",
              "    }\n",
              "    40% {\n",
              "      border-color: transparent;\n",
              "      border-right-color: var(--fill-color);\n",
              "      border-top-color: var(--fill-color);\n",
              "    }\n",
              "    60% {\n",
              "      border-color: transparent;\n",
              "      border-right-color: var(--fill-color);\n",
              "    }\n",
              "    80% {\n",
              "      border-color: transparent;\n",
              "      border-right-color: var(--fill-color);\n",
              "      border-bottom-color: var(--fill-color);\n",
              "    }\n",
              "    90% {\n",
              "      border-color: transparent;\n",
              "      border-bottom-color: var(--fill-color);\n",
              "    }\n",
              "  }\n",
              "</style>\n",
              "\n",
              "      <script>\n",
              "        async function quickchart(key) {\n",
              "          const quickchartButtonEl =\n",
              "            document.querySelector('#' + key + ' button');\n",
              "          quickchartButtonEl.disabled = true;  // To prevent multiple clicks.\n",
              "          quickchartButtonEl.classList.add('colab-df-spinner');\n",
              "          try {\n",
              "            const charts = await google.colab.kernel.invokeFunction(\n",
              "                'suggestCharts', [key], {});\n",
              "          } catch (error) {\n",
              "            console.error('Error during call to suggestCharts:', error);\n",
              "          }\n",
              "          quickchartButtonEl.classList.remove('colab-df-spinner');\n",
              "          quickchartButtonEl.classList.add('colab-df-quickchart-complete');\n",
              "        }\n",
              "        (() => {\n",
              "          let quickchartButtonEl =\n",
              "            document.querySelector('#df-882c458f-988a-42d6-8507-27bb4300427d button');\n",
              "          quickchartButtonEl.style.display =\n",
              "            google.colab.kernel.accessAllowed ? 'block' : 'none';\n",
              "        })();\n",
              "      </script>\n",
              "    </div>\n",
              "\n",
              "    </div>\n",
              "  </div>\n"
            ],
            "application/vnd.google.colaboratory.intrinsic+json": {
              "type": "dataframe",
              "variable_name": "tienda",
              "summary": "{\n  \"name\": \"tienda\",\n  \"rows\": 2359,\n  \"fields\": [\n    {\n      \"column\": \"Producto\",\n      \"properties\": {\n        \"dtype\": \"category\",\n        \"num_unique_values\": 51,\n        \"samples\": [\n          \"Guitarra ac\\u00fastica\",\n          \"Bal\\u00f3n de baloncesto\",\n          \"Smartwatch\"\n        ],\n        \"semantic_type\": \"\",\n        \"description\": \"\"\n      }\n    },\n    {\n      \"column\": \"Categor\\u00eda del Producto\",\n      \"properties\": {\n        \"dtype\": \"category\",\n        \"num_unique_values\": 8,\n        \"samples\": [\n          \"Muebles\",\n          \"Deportes y diversi\\u00f3n\",\n          \"Electr\\u00f3nicos\"\n        ],\n        \"semantic_type\": \"\",\n        \"description\": \"\"\n      }\n    },\n    {\n      \"column\": \"Precio\",\n      \"properties\": {\n        \"dtype\": \"number\",\n        \"std\": 614686.7653873172,\n        \"min\": 7600.0,\n        \"max\": 2977000.0,\n        \"num_unique_values\": 1937,\n        \"samples\": [\n          2499400.0,\n          14800.0,\n          80500.0\n        ],\n        \"semantic_type\": \"\",\n        \"description\": \"\"\n      }\n    },\n    {\n      \"column\": \"Costo de env\\u00edo\",\n      \"properties\": {\n        \"dtype\": \"number\",\n        \"std\": 32860.0017825605,\n        \"min\": 0.0,\n        \"max\": 160800.0,\n        \"num_unique_values\": 753,\n        \"samples\": [\n          117800.0,\n          54700.0,\n          45600.0\n        ],\n        \"semantic_type\": \"\",\n        \"description\": \"\"\n      }\n    },\n    {\n      \"column\": \"Fecha de Compra\",\n      \"properties\": {\n        \"dtype\": \"object\",\n        \"num_unique_values\": 1018,\n        \"samples\": [\n          \"15/09/2022\",\n          \"03/06/2020\",\n          \"06/11/2021\"\n        ],\n        \"semantic_type\": \"\",\n        \"description\": \"\"\n      }\n    },\n    {\n      \"column\": \"Vendedor\",\n      \"properties\": {\n        \"dtype\": \"category\",\n        \"num_unique_values\": 14,\n        \"samples\": [\n          \"Juliana Costa\",\n          \"Mariana Herrera\",\n          \"Pedro Gomez\"\n        ],\n        \"semantic_type\": \"\",\n        \"description\": \"\"\n      }\n    },\n    {\n      \"column\": \"Lugar de Compra\",\n      \"properties\": {\n        \"dtype\": \"category\",\n        \"num_unique_values\": 19,\n        \"samples\": [\n          \"Bogot\\u00e1\",\n          \"Pereira\",\n          \"Neiva\"\n        ],\n        \"semantic_type\": \"\",\n        \"description\": \"\"\n      }\n    },\n    {\n      \"column\": \"Calificaci\\u00f3n\",\n      \"properties\": {\n        \"dtype\": \"number\",\n        \"std\": 1,\n        \"min\": 1,\n        \"max\": 5,\n        \"num_unique_values\": 5,\n        \"samples\": [\n          1,\n          2,\n          5\n        ],\n        \"semantic_type\": \"\",\n        \"description\": \"\"\n      }\n    },\n    {\n      \"column\": \"M\\u00e9todo de pago\",\n      \"properties\": {\n        \"dtype\": \"category\",\n        \"num_unique_values\": 4,\n        \"samples\": [\n          \"Nequi\",\n          \"Tarjeta de d\\u00e9bito\",\n          \"Tarjeta de cr\\u00e9dito\"\n        ],\n        \"semantic_type\": \"\",\n        \"description\": \"\"\n      }\n    },\n    {\n      \"column\": \"Cantidad de cuotas\",\n      \"properties\": {\n        \"dtype\": \"number\",\n        \"std\": 2,\n        \"min\": 1,\n        \"max\": 24,\n        \"num_unique_values\": 15,\n        \"samples\": [\n          7,\n          14,\n          8\n        ],\n        \"semantic_type\": \"\",\n        \"description\": \"\"\n      }\n    },\n    {\n      \"column\": \"lat\",\n      \"properties\": {\n        \"dtype\": \"number\",\n        \"std\": 2.2874452492678627,\n        \"min\": -4.21528,\n        \"max\": 11.54444,\n        \"num_unique_values\": 19,\n        \"samples\": [\n          4.60971,\n          4.81333,\n          2.9273\n        ],\n        \"semantic_type\": \"\",\n        \"description\": \"\"\n      }\n    },\n    {\n      \"column\": \"lon\",\n      \"properties\": {\n        \"dtype\": \"number\",\n        \"std\": 1.2178272727088486,\n        \"min\": -77.28111,\n        \"max\": -67.9239,\n        \"num_unique_values\": 19,\n        \"samples\": [\n          -74.08175,\n          -75.69611,\n          -75.28189\n        ],\n        \"semantic_type\": \"\",\n        \"description\": \"\"\n      }\n    }\n  ]\n}"
            }
          },
          "metadata": {},
          "execution_count": 1
        }
      ],
      "source": [
        "import pandas as pd\n",
        "\n",
        "url = \"https://raw.githubusercontent.com/alura-es-cursos/challenge1-data-science-latam/refs/heads/main/base-de-datos-challenge1-latam/tienda_1%20.csv\"\n",
        "url2 = \"https://raw.githubusercontent.com/alura-es-cursos/challenge1-data-science-latam/refs/heads/main/base-de-datos-challenge1-latam/tienda_2.csv\"\n",
        "url3 = \"https://raw.githubusercontent.com/alura-es-cursos/challenge1-data-science-latam/refs/heads/main/base-de-datos-challenge1-latam/tienda_3.csv\"\n",
        "url4 = \"https://raw.githubusercontent.com/alura-es-cursos/challenge1-data-science-latam/refs/heads/main/base-de-datos-challenge1-latam/tienda_4.csv\"\n",
        "\n",
        "tienda = pd.read_csv(url)\n",
        "tienda2 = pd.read_csv(url2)\n",
        "tienda3 = pd.read_csv(url3)\n",
        "tienda4 = pd.read_csv(url4)\n",
        "\n",
        "tienda.head()"
      ]
    },
    {
      "cell_type": "code",
      "source": [
        "import matplotlib.pyplot as plt"
      ],
      "metadata": {
        "id": "8cSn8QK9cace"
      },
      "execution_count": 33,
      "outputs": []
    },
    {
      "cell_type": "markdown",
      "source": [
        "#1. Análisis de facturación\n",
        "\n"
      ],
      "metadata": {
        "id": "X62IW3KFUIYm"
      }
    },
    {
      "cell_type": "code",
      "source": [
        "def IngresoTotal(dataframe, columna='Precio'):\n",
        "  return dataframe[columna].sum()"
      ],
      "metadata": {
        "id": "xykobSftV64I"
      },
      "execution_count": 2,
      "outputs": []
    },
    {
      "cell_type": "code",
      "source": [
        "Tienda1Ingresos = IngresoTotal(tienda)\n",
        "Tienda2Ingresos = IngresoTotal(tienda2)\n",
        "Tienda3Ingresos = IngresoTotal(tienda3)\n",
        "Tienda4Ingresos = IngresoTotal(tienda4)\n",
        "\n",
        "print(f'Ingresos Tienda 1: {Tienda1Ingresos}')\n",
        "print(f'Ingresos Tienda 2: {Tienda2Ingresos}')\n",
        "print(f'Ingresos Tienda 3: {Tienda3Ingresos}')\n",
        "print(f'Ingresos Tienda 4: {Tienda4Ingresos}')"
      ],
      "metadata": {
        "id": "KDyr8E71V3m-",
        "colab": {
          "base_uri": "https://localhost:8080/"
        },
        "outputId": "b5f7b0b6-2fff-40f0-ff99-99f88c70ee4b"
      },
      "execution_count": 3,
      "outputs": [
        {
          "output_type": "stream",
          "name": "stdout",
          "text": [
            "Ingresos Tienda 1: 1150880400.0\n",
            "Ingresos Tienda 2: 1116343500.0\n",
            "Ingresos Tienda 3: 1098019600.0\n",
            "Ingresos Tienda 4: 1038375700.0\n"
          ]
        }
      ]
    },
    {
      "cell_type": "markdown",
      "source": [
        "# 2. Ventas por categoría"
      ],
      "metadata": {
        "id": "2V_vcAPzWZmR"
      }
    },
    {
      "cell_type": "code",
      "source": [
        "def ventasCategoria(dataframe, columna='Categoría del Producto'):\n",
        "  ventas_categoria = dataframe.groupby(columna)['Precio'].count().reset_index()\n",
        "  ventas_categoria.rename(columns={'Precio': 'Ventas'}, inplace=True)\n",
        "  return ventas_categoria"
      ],
      "metadata": {
        "id": "A34YupIuYhfF"
      },
      "execution_count": 7,
      "outputs": []
    },
    {
      "cell_type": "code",
      "source": [
        "VentasTienda1 = ventasCategoria(tienda)\n",
        "VentasTienda2 = ventasCategoria(tienda2)\n",
        "VentasTienda3 = ventasCategoria(tienda3)\n",
        "VentasTienda4 = ventasCategoria(tienda4)\n",
        "\n",
        "print(\"Tienda 1: \")\n",
        "print(VentasTienda1)\n",
        "print(\"Tienda 2: \")\n",
        "print(VentasTienda2)\n",
        "print(\"Tienda 3: \")\n",
        "print(VentasTienda3)\n",
        "print(\"Tienda 4: \")\n",
        "print(VentasTienda4)"
      ],
      "metadata": {
        "id": "yZR6cOjXYSk1",
        "colab": {
          "base_uri": "https://localhost:8080/"
        },
        "outputId": "087f8b57-e062-497e-a0d8-a433c9119afc"
      },
      "execution_count": 10,
      "outputs": [
        {
          "output_type": "stream",
          "name": "stdout",
          "text": [
            "Tienda 1: \n",
            "    Categoría del Producto  Ventas\n",
            "0  Artículos para el hogar     171\n",
            "1     Deportes y diversión     284\n",
            "2        Electrodomésticos     312\n",
            "3             Electrónicos     448\n",
            "4   Instrumentos musicales     182\n",
            "5                 Juguetes     324\n",
            "6                   Libros     173\n",
            "7                  Muebles     465\n",
            "Tienda 2: \n",
            "    Categoría del Producto  Ventas\n",
            "0  Artículos para el hogar     181\n",
            "1     Deportes y diversión     275\n",
            "2        Electrodomésticos     305\n",
            "3             Electrónicos     422\n",
            "4   Instrumentos musicales     224\n",
            "5                 Juguetes     313\n",
            "6                   Libros     197\n",
            "7                  Muebles     442\n",
            "Tienda 3: \n",
            "    Categoría del Producto  Ventas\n",
            "0  Artículos para el hogar     177\n",
            "1     Deportes y diversión     277\n",
            "2        Electrodomésticos     278\n",
            "3             Electrónicos     451\n",
            "4   Instrumentos musicales     177\n",
            "5                 Juguetes     315\n",
            "6                   Libros     185\n",
            "7                  Muebles     499\n",
            "Tienda 4: \n",
            "    Categoría del Producto  Ventas\n",
            "0  Artículos para el hogar     201\n",
            "1     Deportes y diversión     277\n",
            "2        Electrodomésticos     254\n",
            "3             Electrónicos     451\n",
            "4   Instrumentos musicales     170\n",
            "5                 Juguetes     338\n",
            "6                   Libros     187\n",
            "7                  Muebles     480\n"
          ]
        }
      ]
    },
    {
      "cell_type": "markdown",
      "source": [
        "#### Categoria"
      ],
      "metadata": {
        "id": "calpy8WdcQaM"
      }
    },
    {
      "cell_type": "code",
      "source": [
        "ventas_categoria_tienda1 = ventasCategoria(tienda)\n",
        "\n",
        "ventas_categoria_tienda1 = ventasCategoria(tienda)\n",
        "\n",
        "# Crear el gráfico de pastel\n",
        "plt.figure(figsize=(6, 6))\n",
        "plt.pie(ventas_categoria_tienda1['Ventas'], labels=ventas_categoria_tienda1['Categoría del Producto'], autopct='%1.1f%%', startangle=90)\n",
        "plt.title('Distribución de Categorías de Productos en la Tienda 1')\n",
        "plt.axis('equal')  # Para que el gráfico sea un círculo\n",
        "plt.show()\n",
        "plt.show()"
      ],
      "metadata": {
        "colab": {
          "base_uri": "https://localhost:8080/",
          "height": 521
        },
        "id": "0QOqzxHgcym1",
        "outputId": "156d53d4-c164-4028-a95c-17552633dba1"
      },
      "execution_count": 40,
      "outputs": [
        {
          "output_type": "display_data",
          "data": {
            "text/plain": [
              "<Figure size 600x600 with 1 Axes>"
            ],
            "image/png": "[encoded data removed]"
          },
          "metadata": {}
        }
      ]
    },
    {
      "cell_type": "markdown",
      "source": [
        "# 3. Calificación promedio de la tienda\n"
      ],
      "metadata": {
        "id": "Rq6tU_xSY3jk"
      }
    },
    {
      "cell_type": "code",
      "source": [
        "def promedio(dataframe, columna='Calificación'):\n",
        "  return dataframe[columna].mean()"
      ],
      "metadata": {
        "id": "bh3jjjJwY5MU"
      },
      "execution_count": 11,
      "outputs": []
    },
    {
      "cell_type": "code",
      "source": [
        "tiendaPromedio = promedio(tienda)\n",
        "tienda2Promedio = promedio(tienda2)\n",
        "tienda3Promedio = promedio(tienda3)\n",
        "tienda4Promedio = promedio(tienda4)\n",
        "\n",
        "print(f'Promedio Tienda 1: {tiendaPromedio}')\n",
        "print(f'Promedio Tienda 2: {tienda2Promedio}')\n",
        "print(f'Promedio Tienda 3: {tienda3Promedio}')\n",
        "print(f'Promedio Tienda 4: {tienda4Promedio}')"
      ],
      "metadata": {
        "id": "I0KkjPoTY88F",
        "colab": {
          "base_uri": "https://localhost:8080/"
        },
        "outputId": "9f44a24b-df45-4fca-c6f4-390fe6f6637c"
      },
      "execution_count": 12,
      "outputs": [
        {
          "output_type": "stream",
          "name": "stdout",
          "text": [
            "Promedio Tienda 1: 3.976685036032217\n",
            "Promedio Tienda 2: 4.037303942348453\n",
            "Promedio Tienda 3: 4.048325561678677\n",
            "Promedio Tienda 4: 3.9957591178965224\n"
          ]
        }
      ]
    },
    {
      "cell_type": "code",
      "source": [
        "\n",
        "# Datos de calificaciones promedio por tienda\n",
        "calificaciones_promedio = [promedio(tienda), promedio(tienda2),\n",
        "                            promedio(tienda3), promedio(tienda4)]\n",
        "nombres_tiendas = ['Tienda 1', 'Tienda 2', 'Tienda 3', 'Tienda 4']\n",
        "\n",
        "# Crear el gráfico de líneas\n",
        "plt.figure(figsize=(8, 6))\n",
        "plt.plot(nombres_tiendas, calificaciones_promedio, marker='o', linestyle='-', color='orange')\n",
        "plt.title('Calificaciones Promedio por Tienda')\n",
        "plt.xlabel('Tienda')\n",
        "plt.ylabel('Calificación Promedio')\n",
        "plt.grid(axis='y', linestyle='--')\n",
        "plt.tight_layout()\n",
        "plt.show()"
      ],
      "metadata": {
        "colab": {
          "base_uri": "https://localhost:8080/",
          "height": 607
        },
        "id": "KkJtPNNadxW5",
        "outputId": "b295b17f-fe2e-40a7-b027-2a476ae559cb"
      },
      "execution_count": 42,
      "outputs": [
        {
          "output_type": "display_data",
          "data": {
            "text/plain": [
              "<Figure size 800x600 with 1 Axes>"
            ],
            "image/png": "[encoded data removed]"
          },
          "metadata": {}
        }
      ]
    },
    {
      "cell_type": "markdown",
      "source": [
        "# 4. Productos más y menos vendidos"
      ],
      "metadata": {
        "id": "DmNp1KPBZCm-"
      }
    },
    {
      "cell_type": "code",
      "source": [
        "def productosMasVendidos(dataframe, columna='Producto', columna_cantidad='Cantidad Vendida',top_n=5):\n",
        "  productosOrdenados = dataframe.sort_values(by=columna_cantidad, ascending=False)\n",
        "\n",
        "  mas_vendidos = productosOrdenados.head(top_n)\n",
        "  menos_vendidos = productosOrdenados.tail(top_n)\n",
        "\n",
        "  return mas_vendidos, menos_vendidos\n",
        "\n",
        "def ventasProductos(dataframe, columna='Producto'):\n",
        "  ventas_producto = dataframe.groupby(columna)['Precio'].count().reset_index()\n",
        "  ventas_producto.rename(columns={'Precio': 'Cantidad Vendida'}, inplace=True)\n",
        "  return ventas_producto\n",
        "#"
      ],
      "metadata": {
        "id": "qoyjqijQZHfF"
      },
      "execution_count": 19,
      "outputs": []
    },
    {
      "cell_type": "code",
      "source": [
        "ventas_tienda1 = ventasProductos(tienda)\n",
        "ventas_tienda2 = ventasProductos(tienda2)\n",
        "ventas_tienda3 = ventasProductos(tienda3)\n",
        "ventas_tienda4 = ventasProductos(tienda4)\n",
        "\n",
        "mas_vendidos_tienda1, menos_vendidos_tienda1 = productosMasVendidos(ventas_tienda1)\n",
        "mas_vendidos_tienda2, menos_vendidos_tienda2 = productosMasVendidos(ventas_tienda2)\n",
        "mas_vendidos_tienda3, menos_vendidos_tienda3 = productosMasVendidos(ventas_tienda3)\n",
        "mas_vendidos_tienda4, menos_vendidos_tienda4 = productosMasVendidos(ventas_tienda4)\n",
        "\n",
        "print(\"Tienda 1: \")\n",
        "print(\"Productos más vendidos:\")\n",
        "print(mas_vendidos_tienda1)\n",
        "print(\"Productos menos vendidos:\")\n",
        "print(menos_vendidos_tienda1)\n",
        "\n",
        "print(\"Tienda 2: \")\n",
        "print(\"Productos más vendidos:\")\n",
        "print(mas_vendidos_tienda2)\n",
        "print(\"Productos menos vendidos:\")\n",
        "print(menos_vendidos_tienda2)\n",
        "\n",
        "print(\"Tienda 3: \")\n",
        "print(\"Productos más vendidos:\")\n",
        "print(mas_vendidos_tienda3)\n",
        "print(\"Productos menos vendidos:\")\n",
        "print(menos_vendidos_tienda3)\n",
        "\n",
        "print(\"Tienda 4: \")\n",
        "print(\"Productos más vendidos:\")\n",
        "print(mas_vendidos_tienda4)\n",
        "print(\"Productos menos vendidos:\")\n",
        "print(menos_vendidos_tienda4)\n",
        "\n"
      ],
      "metadata": {
        "id": "0Sw3sd4IZIGW",
        "colab": {
          "base_uri": "https://localhost:8080/"
        },
        "outputId": "6085b141-8da9-478c-c9d2-9769df8c9256"
      },
      "execution_count": 22,
      "outputs": [
        {
          "output_type": "stream",
          "name": "stdout",
          "text": [
            "Tienda 1: \n",
            "Productos más vendidos:\n",
            "            Producto  Cantidad Vendida\n",
            "1            Armario                60\n",
            "48     TV LED UHD 4K                60\n",
            "33        Microondas                60\n",
            "40  Secadora de ropa                58\n",
            "32     Mesa de noche                56\n",
            "Productos menos vendidos:\n",
            "                     Producto  Cantidad Vendida\n",
            "34                    Mochila                39\n",
            "38                  Pandereta                36\n",
            "37            Olla de presión                35\n",
            "13               Celular ABXY                33\n",
            "4   Auriculares con micrófono                33\n",
            "Tienda 2: \n",
            "Productos más vendidos:\n",
            "                     Producto  Cantidad Vendida\n",
            "24  Iniciando en programación                65\n",
            "33                 Microondas                62\n",
            "7                     Batería                61\n",
            "38                  Pandereta                58\n",
            "21          Guitarra acústica                58\n",
            "Productos menos vendidos:\n",
            "           Producto  Cantidad Vendida\n",
            "3       Auriculares                37\n",
            "44           Sillón                35\n",
            "23        Impresora                34\n",
            "31  Mesa de comedor                34\n",
            "26    Juego de mesa                32\n",
            "Tienda 3: \n",
            "Productos más vendidos:\n",
            "           Producto  Cantidad Vendida\n",
            "27    Kit de bancas                57\n",
            "31  Mesa de comedor                56\n",
            "11        Cama king                56\n",
            "41     Set de ollas                55\n",
            "32    Mesa de noche                55\n",
            "Productos menos vendidos:\n",
            "                   Producto  Cantidad Vendida\n",
            "22       Guitarra eléctrica                38\n",
            "34                  Mochila                36\n",
            "33               Microondas                36\n",
            "42             Set de vasos                36\n",
            "9   Bloques de construcción                35\n",
            "Tienda 4: \n",
            "Productos más vendidos:\n",
            "                     Producto  Cantidad Vendida\n",
            "10                   Cama box                62\n",
            "15                 Cubertería                59\n",
            "11                  Cama king                56\n",
            "18    Dashboards con Power BI                56\n",
            "12  Carrito de control remoto                55\n",
            "Productos menos vendidos:\n",
            "                       Producto  Cantidad Vendida\n",
            "14  Ciencia de datos con Python                38\n",
            "39                 Refrigerador                38\n",
            "21            Guitarra acústica                37\n",
            "1                       Armario                34\n",
            "22           Guitarra eléctrica                33\n"
          ]
        }
      ]
    },
    {
      "cell_type": "markdown",
      "source": [
        "# 5. Envío promedio por tienda"
      ],
      "metadata": {
        "id": "Fl0cGi3bZKqU"
      }
    },
    {
      "cell_type": "code",
      "source": [
        "def envioPromedio(dataframe, columna='Costo de envío'):\n",
        "  resul = dataframe[columna].mean()\n",
        "  return resul"
      ],
      "metadata": {
        "id": "S2JeaCykZNy9"
      },
      "execution_count": 30,
      "outputs": []
    },
    {
      "cell_type": "code",
      "source": [
        "envio_tienda1 = envioPromedio(tienda)\n",
        "envio_tienda2 = envioPromedio(tienda2)\n",
        "envio_tienda3 = envioPromedio(tienda3)\n",
        "envio_tienda4 = envioPromedio(tienda4)\n",
        "\n",
        "print(f'Envío Tienda 1: {envio_tienda1}')\n",
        "print(f'Envío Tienda 2: {envio_tienda2}')\n",
        "print(f'Envío Tienda 3: {envio_tienda3}')\n",
        "print(f'Envío Tienda 4: {envio_tienda4}')\n"
      ],
      "metadata": {
        "id": "0tSdCie9ZQlt",
        "colab": {
          "base_uri": "https://localhost:8080/"
        },
        "outputId": "183206a3-8eed-461b-8f41-b1f5ff6c0f3f"
      },
      "execution_count": 32,
      "outputs": [
        {
          "output_type": "stream",
          "name": "stdout",
          "text": [
            "Envío Tienda 1: 26018.60958033065\n",
            "Envío Tienda 2: 25216.235693090293\n",
            "Envío Tienda 3: 24805.680373039424\n",
            "Envío Tienda 4: 23459.457167090754\n"
          ]
        }
      ]
    }
  ]
}